{
    "cells": [
        {
            "cell_type": "markdown",
            "metadata": {
                "collapsed": true
            },
            "source": "# Import required libraries\nimport pandas as pd\nimport dash\nimport dash_html_components as html\nimport dash_core_components as dcc\nfrom dash.dependencies import Input, Output\nimport plotly.express as px\nimport numpy as np\n\n# Read the airline data into pandas dataframe\nspacex_df = pd.read_csv(\"spacex_launch_dash.csv\")\nmax_payload = spacex_df['Payload Mass (kg)'].max()\nmin_payload = spacex_df['Payload Mass (kg)'].min()\nprint('min='+str(min_payload)+' max='+str(max_payload))\n\n# Create a dash application\napp = dash.Dash(__name__)\n\nsites = spacex_df['Launch Site'].unique()\n\n# Create an app layout\napp.layout = html.Div(children=[html.H1('SpaceX Launch Records Dashboard',\n                                        style={'textAlign': 'center', 'color': '#503D36',\n                                               'font-size': 40}),\n                                # TASK 1: Add a dropdown list to enable Launch Site selection\n                                # The default select value is for ALL sites\n                                dcc.Dropdown(id='site-dropdown', value='ALL', \n                                options=[\n                                    {'label': 'All Sites', 'value': 'ALL'},\n                                    {'label': 'CCAFS LC-40', 'value': 'CCAFS LC-40'},                                    \n                                    {'label': 'VAFB SLC-4E', 'value': 'VAFB SLC-4E'},                                    \n                                    {'label': 'KSC LC-39A', 'value': 'KSC LC-39A'},                                    \n                                    {'label': 'CCAFS SLC-40', 'value': 'CCAFS SLC-40'}\n                                ],\n                                placeholder='Select a Launch Site',\n                                searchable=True),\n                                html.Br(),\n\n                                # TASK 2: Add a pie chart to show the total successful launches count for all sites\n                                # If a specific launch site was selected, show the Success vs. Failed counts for the site\n                                html.Div(dcc.Graph(id='success-pie-chart')),\n                                html.Br(),\n\n                                html.P(\"Payload range (Kg):\"),\n                                # TASK 3: Add a slider to select payload range\n                                dcc.RangeSlider(id='payload-slider', min=0, max=10000, step=100,\n                                    marks={0: '0', 2500: '2500', 5000: '5000', 7500: '7500', 10000: '10000'},\n                                    value=[int(min_payload), int(max_payload)]),\n\n                                # TASK 4: Add a scatter chart to show the correlation between payload and launch success\n                                html.Div(dcc.Graph(id='success-payload-scatter-chart')),\n                                ])\n\n# TASK 2:\n# Add a callback function for `site-dropdown` as input, `success-pie-chart` as output\n@app.callback(Output(component_id='success-pie-chart', component_property='figure'),\n              Input(component_id='site-dropdown', component_property='value'))\n\ndef get_pie_chart(entered_site):\n    filtered_df = spacex_df\n    if entered_site == 'ALL':\n        data = filtered_df[filtered_df['class'] == 1] # successes\n        data = data.groupby('Launch Site').sum().reset_index()\n        fig = px.pie(data, values='class', names='Launch Site', title='Total Success Launches by Site')\n        return fig\n    else:        \n        # return the outcomes piechart for a selected site\n        data = filtered_df[filtered_df['Launch Site'] == entered_site]\n        data = data.groupby('class').count().reset_index()\n        # print(data)\n        fig = px.pie(data, values='Flight Number', names='class', title='Total Success Launches for '+entered_site)\n        return fig\n\n# TASK 4:\n# Add a callback function for `site-dropdown` and `payload-slider` as inputs, `success-payload-scatter-chart` as output\n@app.callback(Output(component_id='success-payload-scatter-chart', component_property='figure'),\n              [Input(component_id='site-dropdown', component_property='value'),\n                    Input(component_id='payload-slider', component_property='value')])\n\n\ndef get_graph(entered_site, payload_range):\n    filtered_df = spacex_df\n    filtered_df = filtered_df[filtered_df['Payload Mass (kg)'] >= payload_range[0]]\n    data = filtered_df[filtered_df['Payload Mass (kg)'] <= payload_range[1]]\n    dest = 'All Sites'\n    if entered_site != 'ALL':\n        data = data[data['Launch Site'] == entered_site]\n        dest = entered_site\n    fig = px.scatter(data, x='Payload Mass (kg)', y='class', color='Booster Version Category', \n        title=\"Correlation between Payload and Success for \"+dest)\n    return fig\n\n# Run the app\nif __name__ == '__main__':\n    app.run_server()\n"
        }
    ],
    "metadata": {
        "kernelspec": {
            "display_name": "Python 3.8",
            "language": "python",
            "name": "python3"
        },
        "language_info": {
            "codemirror_mode": {
                "name": "ipython",
                "version": 3
            },
            "file_extension": ".py",
            "mimetype": "text/x-python",
            "name": "python",
            "nbconvert_exporter": "python",
            "pygments_lexer": "ipython3",
            "version": "3.8.11"
        }
    },
    "nbformat": 4,
    "nbformat_minor": 1
}